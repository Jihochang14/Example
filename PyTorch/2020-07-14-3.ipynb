{
 "cells": [
  {
   "cell_type": "code",
   "execution_count": 1,
   "metadata": {},
   "outputs": [],
   "source": [
    "import torch\n",
    "import torch.nn as nn\n",
    "import torchvision.datasets as dsets\n",
    "import torchvision.transforms as transforms"
   ]
  },
  {
   "cell_type": "code",
   "execution_count": 2,
   "metadata": {},
   "outputs": [],
   "source": [
    "from scipy import io\n",
    "import numpy as np"
   ]
  },
  {
   "cell_type": "code",
   "execution_count": 3,
   "metadata": {},
   "outputs": [],
   "source": [
    "mat_file = io.loadmat('./dataset_1.mat')\n",
    "angle_file = io.loadmat('./angle.mat')"
   ]
  },
  {
   "cell_type": "code",
   "execution_count": 4,
   "metadata": {},
   "outputs": [],
   "source": [
    "(S_left, S_left_phase, S_right, S_right_phase) = (mat_file['S_left'],mat_file['S_left_phase'],mat_file['S_right'],mat_file['S_right_phase'])"
   ]
  },
  {
   "cell_type": "code",
   "execution_count": 5,
   "metadata": {},
   "outputs": [],
   "source": [
    "del mat_file"
   ]
  },
  {
   "cell_type": "code",
   "execution_count": 6,
   "metadata": {},
   "outputs": [],
   "source": [
    "S_left_reshape = np.swapaxes(S_left, 1, 2)\n",
    "S_left_reshape = np.swapaxes(S_left_reshape, 0, 1)\n",
    "S_left_reshape = np.reshape(S_left_reshape, (1000, 1, 257, 382))\n",
    "del S_left\n",
    "\n",
    "S_left_phase_reshape = np.swapaxes(S_left_phase, 1, 2)\n",
    "S_left_phase_reshape = np.swapaxes(S_left_phase_reshape, 0, 1)\n",
    "S_left_phase_reshape = np.reshape(S_left_phase_reshape, (1000, 1, 257, 382))\n",
    "del S_left_phase\n",
    "\n",
    "S_right_reshape = np.swapaxes(S_right, 1, 2)\n",
    "S_right_reshape = np.swapaxes(S_right_reshape, 0, 1)\n",
    "S_right_reshape = np.reshape(S_right_reshape, (1000, 1, 257, 382))\n",
    "del S_right\n",
    "\n",
    "S_right_phase_reshape = np.swapaxes(S_right_phase, 1, 2)\n",
    "S_right_phase_reshape = np.swapaxes(S_right_phase_reshape, 0, 1)\n",
    "S_right_phase_reshape = np.reshape(S_right_phase_reshape, (1000, 1, 257, 382))\n",
    "del S_right_phase"
   ]
  }
 ],
 "metadata": {
  "kernelspec": {
   "display_name": "Python 3",
   "language": "python",
   "name": "python3"
  },
  "language_info": {
   "codemirror_mode": {
    "name": "ipython",
    "version": 3
   },
   "file_extension": ".py",
   "mimetype": "text/x-python",
   "name": "python",
   "nbconvert_exporter": "python",
   "pygments_lexer": "ipython3",
   "version": "3.7.3"
  }
 },
 "nbformat": 4,
 "nbformat_minor": 4
}
